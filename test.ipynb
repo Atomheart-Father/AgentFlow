{
 "cells": [
  {
   "cell_type": "code",
   "execution_count": 1,
   "id": "80cec57c",
   "metadata": {},
   "outputs": [
    {
     "name": "stdout",
     "output_type": "stream",
     "text": [
      "\u001b[32m2025-09-18 14:59:20.437\u001b[0m | \u001b[1mINFO    \u001b[0m | \u001b[36mlogger\u001b[0m:\u001b[36msetup_logging\u001b[0m:\u001b[36m71\u001b[0m | \u001b[1m日志系统初始化完成，级别: DEBUG\u001b[0m\n",
      "\u001b[32m2025-09-18 14:59:21.238\u001b[0m | \u001b[34m\u001b[1mDEBUG   \u001b[0m | \u001b[36mllm_interface\u001b[0m:\u001b[36mgenerate\u001b[0m:\u001b[36m258\u001b[0m | \u001b[34m\u001b[1mLLM调用尝试 1/4\u001b[0m\n",
      "\u001b[32m2025-09-18 14:59:25.679\u001b[0m | \u001b[1mINFO    \u001b[0m | \u001b[36magent_core\u001b[0m:\u001b[36m__init__\u001b[0m:\u001b[36m22\u001b[0m | \u001b[1mAgent核心初始化完成\u001b[0m\n",
      "\u001b[32m2025-09-18 14:59:25.679\u001b[0m | \u001b[1mINFO    \u001b[0m | \u001b[36magent_core\u001b[0m:\u001b[36m__init__\u001b[0m:\u001b[36m22\u001b[0m | \u001b[1mAgent核心初始化完成\u001b[0m\n",
      "\u001b[32m2025-09-18 14:59:25.679\u001b[0m | \u001b[1mINFO    \u001b[0m | \u001b[36magent_core\u001b[0m:\u001b[36mset_llm_interface\u001b[0m:\u001b[36m37\u001b[0m | \u001b[1mLLM接口已更新\u001b[0m\n",
      "\u001b[32m2025-09-18 14:59:25.679\u001b[0m | \u001b[1mINFO    \u001b[0m | \u001b[36magent_core\u001b[0m:\u001b[36mprocess\u001b[0m:\u001b[36m57\u001b[0m | \u001b[1m开始处理用户输入: 你好\u001b[0m\n",
      "\u001b[32m2025-09-18 14:59:25.679\u001b[0m | \u001b[34m\u001b[1mDEBUG   \u001b[0m | \u001b[36mllm_interface\u001b[0m:\u001b[36mgenerate\u001b[0m:\u001b[36m258\u001b[0m | \u001b[34m\u001b[1mLLM调用尝试 1/4\u001b[0m\n",
      "\u001b[32m2025-09-18 14:59:31.080\u001b[0m | \u001b[1mINFO    \u001b[0m | \u001b[36magent_core\u001b[0m:\u001b[36m_log_response\u001b[0m:\u001b[36m138\u001b[0m | \u001b[1mLLM响应完成\u001b[0m\n",
      "\u001b[32m2025-09-18 14:59:31.081\u001b[0m | \u001b[1mINFO    \u001b[0m | \u001b[36magent_core\u001b[0m:\u001b[36m_log_response\u001b[0m:\u001b[36m165\u001b[0m | \u001b[1mToken使用情况: 总token: 84 | 输入token: 41 | 输出token: 43\u001b[0m\n",
      "\u001b[32m2025-09-18 14:59:31.081\u001b[0m | \u001b[1mINFO    \u001b[0m | \u001b[36magent_core\u001b[0m:\u001b[36mprocess\u001b[0m:\u001b[36m75\u001b[0m | \u001b[1m.2f\u001b[0m\n"
     ]
    }
   ],
   "source": [
    "# 1. 测试配置（无需API密钥）\n",
    "from config import get_config\n",
    "config = get_config()\n",
    "config.validate(require_api_keys=False)\n",
    "\n",
    "# 2. 测试日志系统\n",
    "from logger import setup_logging, get_logger\n",
    "setup_logging(\"DEBUG\")\n",
    "logger = get_logger()\n",
    "\n",
    "# 3. 测试LLM接口（需要API密钥）\n",
    "from llm_interface import create_llm_interface_with_keys\n",
    "llm = create_llm_interface_with_keys()\n",
    "await llm.generate(\"Hello!\")\n",
    "\n",
    "# 4. 测试Agent核心\n",
    "from agent_core import AgentCore\n",
    "agent = AgentCore()\n",
    "agent.set_llm_interface(llm)\n",
    "result = await agent.process(\"你好\")"
   ]
  },
  {
   "cell_type": "code",
   "execution_count": 2,
   "id": "931335a1",
   "metadata": {},
   "outputs": [
    {
     "data": {
      "text/plain": [
       "{'response': '你好！😊 很高兴见到你～我是你的AI个人助理，虽然目前主要能陪你聊聊天，但我会尽力帮你解答问题或提供建议。有什么想聊的，或者需要帮忙的吗？',\n",
       " 'metadata': {'model': 'deepseek-chat',\n",
       "  'response_time': 5.386296987533569,\n",
       "  'total_time': 5.40197,\n",
       "  'usage': {'prompt_tokens': 41, 'completion_tokens': 43, 'total_tokens': 84},\n",
       "  'function_calls': None,\n",
       "  'timestamp': '2025-09-18T14:59:25.679469'}}"
      ]
     },
     "execution_count": 2,
     "metadata": {},
     "output_type": "execute_result"
    }
   ],
   "source": [
    "result"
   ]
  },
  {
   "cell_type": "code",
   "execution_count": null,
   "id": "eb883bff",
   "metadata": {},
   "outputs": [],
   "source": []
  }
 ],
 "metadata": {
  "kernelspec": {
   "display_name": "base",
   "language": "python",
   "name": "python3"
  },
  "language_info": {
   "codemirror_mode": {
    "name": "ipython",
    "version": 3
   },
   "file_extension": ".py",
   "mimetype": "text/x-python",
   "name": "python",
   "nbconvert_exporter": "python",
   "pygments_lexer": "ipython3",
   "version": "3.12.7"
  }
 },
 "nbformat": 4,
 "nbformat_minor": 5
}
