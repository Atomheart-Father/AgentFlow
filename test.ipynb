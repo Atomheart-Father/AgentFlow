{
 "cells": [
  {
   "cell_type": "code",
   "execution_count": 1,
   "id": "80cec57c",
   "metadata": {},
   "outputs": [
    {
     "name": "stdout",
     "output_type": "stream",
     "text": [
      "\u001b[32m2025-09-18 14:47:14.862\u001b[0m | \u001b[1mINFO    \u001b[0m | \u001b[36mlogger\u001b[0m:\u001b[36msetup_logging\u001b[0m:\u001b[36m71\u001b[0m | \u001b[1m日志系统初始化完成，级别: DEBUG\u001b[0m\n",
      "\u001b[32m2025-09-18 14:47:15.616\u001b[0m | \u001b[34m\u001b[1mDEBUG   \u001b[0m | \u001b[36mllm_interface\u001b[0m:\u001b[36mgenerate\u001b[0m:\u001b[36m256\u001b[0m | \u001b[34m\u001b[1mLLM调用尝试 1/4\u001b[0m\n",
      "\u001b[32m2025-09-18 14:47:19.726\u001b[0m | \u001b[31m\u001b[1mERROR   \u001b[0m | \u001b[36mllm_interface\u001b[0m:\u001b[36mgenerate\u001b[0m:\u001b[36m190\u001b[0m | \u001b[31m\u001b[1mDeepSeek API调用失败: object ChatCompletion can't be used in 'await' expression\u001b[0m\n",
      "\u001b[32m2025-09-18 14:47:19.727\u001b[0m | \u001b[33m\u001b[1mWARNING \u001b[0m | \u001b[36mllm_interface\u001b[0m:\u001b[36mgenerate\u001b[0m:\u001b[36m271\u001b[0m | \u001b[33m\u001b[1mLLM调用失败 (尝试 1): object ChatCompletion can't be used in 'await' expression\u001b[0m\n",
      "\u001b[32m2025-09-18 14:47:19.727\u001b[0m | \u001b[1mINFO    \u001b[0m | \u001b[36mllm_interface\u001b[0m:\u001b[36mgenerate\u001b[0m:\u001b[36m276\u001b[0m | \u001b[1m等待 1 秒后重试...\u001b[0m\n",
      "\u001b[32m2025-09-18 14:47:20.732\u001b[0m | \u001b[34m\u001b[1mDEBUG   \u001b[0m | \u001b[36mllm_interface\u001b[0m:\u001b[36mgenerate\u001b[0m:\u001b[36m256\u001b[0m | \u001b[34m\u001b[1mLLM调用尝试 2/4\u001b[0m\n",
      "\u001b[32m2025-09-18 14:47:24.527\u001b[0m | \u001b[31m\u001b[1mERROR   \u001b[0m | \u001b[36mllm_interface\u001b[0m:\u001b[36mgenerate\u001b[0m:\u001b[36m190\u001b[0m | \u001b[31m\u001b[1mDeepSeek API调用失败: object ChatCompletion can't be used in 'await' expression\u001b[0m\n",
      "\u001b[32m2025-09-18 14:47:24.528\u001b[0m | \u001b[33m\u001b[1mWARNING \u001b[0m | \u001b[36mllm_interface\u001b[0m:\u001b[36mgenerate\u001b[0m:\u001b[36m271\u001b[0m | \u001b[33m\u001b[1mLLM调用失败 (尝试 2): object ChatCompletion can't be used in 'await' expression\u001b[0m\n",
      "\u001b[32m2025-09-18 14:47:24.528\u001b[0m | \u001b[1mINFO    \u001b[0m | \u001b[36mllm_interface\u001b[0m:\u001b[36mgenerate\u001b[0m:\u001b[36m276\u001b[0m | \u001b[1m等待 2 秒后重试...\u001b[0m\n",
      "\u001b[32m2025-09-18 14:47:26.529\u001b[0m | \u001b[34m\u001b[1mDEBUG   \u001b[0m | \u001b[36mllm_interface\u001b[0m:\u001b[36mgenerate\u001b[0m:\u001b[36m256\u001b[0m | \u001b[34m\u001b[1mLLM调用尝试 3/4\u001b[0m\n",
      "\u001b[32m2025-09-18 14:47:31.145\u001b[0m | \u001b[31m\u001b[1mERROR   \u001b[0m | \u001b[36mllm_interface\u001b[0m:\u001b[36mgenerate\u001b[0m:\u001b[36m190\u001b[0m | \u001b[31m\u001b[1mDeepSeek API调用失败: object ChatCompletion can't be used in 'await' expression\u001b[0m\n",
      "\u001b[32m2025-09-18 14:47:31.145\u001b[0m | \u001b[33m\u001b[1mWARNING \u001b[0m | \u001b[36mllm_interface\u001b[0m:\u001b[36mgenerate\u001b[0m:\u001b[36m271\u001b[0m | \u001b[33m\u001b[1mLLM调用失败 (尝试 3): object ChatCompletion can't be used in 'await' expression\u001b[0m\n",
      "\u001b[32m2025-09-18 14:47:31.146\u001b[0m | \u001b[1mINFO    \u001b[0m | \u001b[36mllm_interface\u001b[0m:\u001b[36mgenerate\u001b[0m:\u001b[36m276\u001b[0m | \u001b[1m等待 4 秒后重试...\u001b[0m\n",
      "\u001b[32m2025-09-18 14:47:35.151\u001b[0m | \u001b[34m\u001b[1mDEBUG   \u001b[0m | \u001b[36mllm_interface\u001b[0m:\u001b[36mgenerate\u001b[0m:\u001b[36m256\u001b[0m | \u001b[34m\u001b[1mLLM调用尝试 4/4\u001b[0m\n"
     ]
    },
    {
     "ename": "CancelledError",
     "evalue": "",
     "output_type": "error",
     "traceback": [
      "\u001b[0;31m---------------------------------------------------------------------------\u001b[0m",
      "\u001b[0;31mCancelledError\u001b[0m                            Traceback (most recent call last)",
      "Cell \u001b[0;32mIn[1], line 14\u001b[0m\n\u001b[1;32m     12\u001b[0m \u001b[38;5;28;01mfrom\u001b[39;00m \u001b[38;5;21;01mllm_interface\u001b[39;00m \u001b[38;5;28;01mimport\u001b[39;00m create_llm_interface_with_keys\n\u001b[1;32m     13\u001b[0m llm \u001b[38;5;241m=\u001b[39m create_llm_interface_with_keys()\n\u001b[0;32m---> 14\u001b[0m \u001b[38;5;28;01mawait\u001b[39;00m llm\u001b[38;5;241m.\u001b[39mgenerate(\u001b[38;5;124m\"\u001b[39m\u001b[38;5;124mHello!\u001b[39m\u001b[38;5;124m\"\u001b[39m)\n\u001b[1;32m     16\u001b[0m \u001b[38;5;66;03m# 4. 测试Agent核心\u001b[39;00m\n\u001b[1;32m     17\u001b[0m \u001b[38;5;28;01mfrom\u001b[39;00m \u001b[38;5;21;01magent_core\u001b[39;00m \u001b[38;5;28;01mimport\u001b[39;00m AgentCore\n",
      "File \u001b[0;32m~/Desktop/克罗米王国国立电台/personal_agent/llm_interface.py:259\u001b[0m, in \u001b[0;36mLLMInterface.generate\u001b[0;34m(self, prompt, tools_schema, **kwargs)\u001b[0m\n\u001b[1;32m    256\u001b[0m     logger\u001b[38;5;241m.\u001b[39mdebug(\u001b[38;5;124mf\u001b[39m\u001b[38;5;124m\"\u001b[39m\u001b[38;5;124mLLM调用尝试 \u001b[39m\u001b[38;5;132;01m{\u001b[39;00mattempt\u001b[38;5;250m \u001b[39m\u001b[38;5;241m+\u001b[39m\u001b[38;5;250m \u001b[39m\u001b[38;5;241m1\u001b[39m\u001b[38;5;132;01m}\u001b[39;00m\u001b[38;5;124m/\u001b[39m\u001b[38;5;132;01m{\u001b[39;00m\u001b[38;5;28mself\u001b[39m\u001b[38;5;241m.\u001b[39mmax_retries\u001b[38;5;250m \u001b[39m\u001b[38;5;241m+\u001b[39m\u001b[38;5;250m \u001b[39m\u001b[38;5;241m1\u001b[39m\u001b[38;5;132;01m}\u001b[39;00m\u001b[38;5;124m\"\u001b[39m)\n\u001b[1;32m    258\u001b[0m     \u001b[38;5;66;03m# 设置超时\u001b[39;00m\n\u001b[0;32m--> 259\u001b[0m     \u001b[38;5;28;01masync\u001b[39;00m \u001b[38;5;28;01mwith\u001b[39;00m httpx\u001b[38;5;241m.\u001b[39mAsyncClient(timeout\u001b[38;5;241m=\u001b[39m\u001b[38;5;28mself\u001b[39m\u001b[38;5;241m.\u001b[39mtimeout) \u001b[38;5;28;01mas\u001b[39;00m client:\n\u001b[1;32m    260\u001b[0m         \u001b[38;5;66;03m# 这里需要根据不同的provider设置client，但简化起见直接调用\u001b[39;00m\n\u001b[1;32m    261\u001b[0m         \u001b[38;5;28;01mreturn\u001b[39;00m \u001b[38;5;28;01mawait\u001b[39;00m \u001b[38;5;28mself\u001b[39m\u001b[38;5;241m.\u001b[39mprovider\u001b[38;5;241m.\u001b[39mgenerate(\n\u001b[1;32m    262\u001b[0m             prompt\u001b[38;5;241m=\u001b[39mprompt,\n\u001b[1;32m    263\u001b[0m             tools_schema\u001b[38;5;241m=\u001b[39mtools_schema,\n\u001b[0;32m   (...)\u001b[0m\n\u001b[1;32m    266\u001b[0m             \u001b[38;5;241m*\u001b[39m\u001b[38;5;241m*\u001b[39mkwargs\n\u001b[1;32m    267\u001b[0m         )\n\u001b[1;32m    269\u001b[0m \u001b[38;5;28;01mexcept\u001b[39;00m \u001b[38;5;167;01mException\u001b[39;00m \u001b[38;5;28;01mas\u001b[39;00m e:\n",
      "File \u001b[0;32m/opt/anaconda3/lib/python3.12/site-packages/httpx/_client.py:2035\u001b[0m, in \u001b[0;36mAsyncClient.__aenter__\u001b[0;34m(self)\u001b[0m\n\u001b[1;32m   2031\u001b[0m     \u001b[38;5;28;01mraise\u001b[39;00m \u001b[38;5;167;01mRuntimeError\u001b[39;00m(msg)\n\u001b[1;32m   2033\u001b[0m \u001b[38;5;28mself\u001b[39m\u001b[38;5;241m.\u001b[39m_state \u001b[38;5;241m=\u001b[39m ClientState\u001b[38;5;241m.\u001b[39mOPENED\n\u001b[0;32m-> 2035\u001b[0m \u001b[38;5;28;01mawait\u001b[39;00m \u001b[38;5;28mself\u001b[39m\u001b[38;5;241m.\u001b[39m_transport\u001b[38;5;241m.\u001b[39m\u001b[38;5;21m__aenter__\u001b[39m()\n\u001b[1;32m   2036\u001b[0m \u001b[38;5;28;01mfor\u001b[39;00m proxy \u001b[38;5;129;01min\u001b[39;00m \u001b[38;5;28mself\u001b[39m\u001b[38;5;241m.\u001b[39m_mounts\u001b[38;5;241m.\u001b[39mvalues():\n\u001b[1;32m   2037\u001b[0m     \u001b[38;5;28;01mif\u001b[39;00m proxy \u001b[38;5;129;01mis\u001b[39;00m \u001b[38;5;129;01mnot\u001b[39;00m \u001b[38;5;28;01mNone\u001b[39;00m:\n",
      "File \u001b[0;32m/opt/anaconda3/lib/python3.12/site-packages/httpx/_transports/default.py:342\u001b[0m, in \u001b[0;36mAsyncHTTPTransport.__aenter__\u001b[0;34m(self)\u001b[0m\n\u001b[1;32m    341\u001b[0m \u001b[38;5;28;01masync\u001b[39;00m \u001b[38;5;28;01mdef\u001b[39;00m \u001b[38;5;21m__aenter__\u001b[39m(\u001b[38;5;28mself\u001b[39m: A) \u001b[38;5;241m-\u001b[39m\u001b[38;5;241m>\u001b[39m A:  \u001b[38;5;66;03m# Use generics for subclass support.\u001b[39;00m\n\u001b[0;32m--> 342\u001b[0m     \u001b[38;5;28;01mawait\u001b[39;00m \u001b[38;5;28mself\u001b[39m\u001b[38;5;241m.\u001b[39m_pool\u001b[38;5;241m.\u001b[39m\u001b[38;5;21m__aenter__\u001b[39m()\n\u001b[1;32m    343\u001b[0m     \u001b[38;5;28;01mreturn\u001b[39;00m \u001b[38;5;28mself\u001b[39m\n",
      "File \u001b[0;32m/opt/anaconda3/lib/python3.12/site-packages/httpcore/_async/connection_pool.py:331\u001b[0m, in \u001b[0;36mAsyncConnectionPool.__aenter__\u001b[0;34m(self)\u001b[0m\n\u001b[1;32m    328\u001b[0m \u001b[38;5;28;01masync\u001b[39;00m \u001b[38;5;28;01mdef\u001b[39;00m \u001b[38;5;21m__aenter__\u001b[39m(\u001b[38;5;28mself\u001b[39m) \u001b[38;5;241m-\u001b[39m\u001b[38;5;241m>\u001b[39m \u001b[38;5;124m\"\u001b[39m\u001b[38;5;124mAsyncConnectionPool\u001b[39m\u001b[38;5;124m\"\u001b[39m:\n\u001b[1;32m    329\u001b[0m     \u001b[38;5;66;03m# Acquiring the pool lock here ensures that we have the\u001b[39;00m\n\u001b[1;32m    330\u001b[0m     \u001b[38;5;66;03m# correct dependencies installed as early as possible.\u001b[39;00m\n\u001b[0;32m--> 331\u001b[0m     \u001b[38;5;28;01masync\u001b[39;00m \u001b[38;5;28;01mwith\u001b[39;00m \u001b[38;5;28mself\u001b[39m\u001b[38;5;241m.\u001b[39m_pool_lock:\n\u001b[1;32m    332\u001b[0m         \u001b[38;5;28;01mpass\u001b[39;00m\n\u001b[1;32m    333\u001b[0m     \u001b[38;5;28;01mreturn\u001b[39;00m \u001b[38;5;28mself\u001b[39m\n",
      "File \u001b[0;32m/opt/anaconda3/lib/python3.12/site-packages/httpcore/_synchronization.py:69\u001b[0m, in \u001b[0;36mAsyncLock.__aenter__\u001b[0;34m(self)\u001b[0m\n\u001b[1;32m     67\u001b[0m     \u001b[38;5;28;01mawait\u001b[39;00m \u001b[38;5;28mself\u001b[39m\u001b[38;5;241m.\u001b[39m_trio_lock\u001b[38;5;241m.\u001b[39macquire()\n\u001b[1;32m     68\u001b[0m \u001b[38;5;28;01melif\u001b[39;00m \u001b[38;5;28mself\u001b[39m\u001b[38;5;241m.\u001b[39m_backend \u001b[38;5;241m==\u001b[39m \u001b[38;5;124m\"\u001b[39m\u001b[38;5;124masyncio\u001b[39m\u001b[38;5;124m\"\u001b[39m:\n\u001b[0;32m---> 69\u001b[0m     \u001b[38;5;28;01mawait\u001b[39;00m \u001b[38;5;28mself\u001b[39m\u001b[38;5;241m.\u001b[39m_anyio_lock\u001b[38;5;241m.\u001b[39macquire()\n\u001b[1;32m     71\u001b[0m \u001b[38;5;28;01mreturn\u001b[39;00m \u001b[38;5;28mself\u001b[39m\n",
      "File \u001b[0;32m/opt/anaconda3/lib/python3.12/site-packages/anyio/_core/_synchronization.py:179\u001b[0m, in \u001b[0;36mLock.acquire\u001b[0;34m(self)\u001b[0m\n\u001b[1;32m    177\u001b[0m \u001b[38;5;28;01melse\u001b[39;00m:\n\u001b[1;32m    178\u001b[0m     \u001b[38;5;28;01mtry\u001b[39;00m:\n\u001b[0;32m--> 179\u001b[0m         \u001b[38;5;28;01mawait\u001b[39;00m cancel_shielded_checkpoint()\n\u001b[1;32m    180\u001b[0m     \u001b[38;5;28;01mexcept\u001b[39;00m \u001b[38;5;167;01mBaseException\u001b[39;00m:\n\u001b[1;32m    181\u001b[0m         \u001b[38;5;28mself\u001b[39m\u001b[38;5;241m.\u001b[39mrelease()\n",
      "File \u001b[0;32m/opt/anaconda3/lib/python3.12/site-packages/anyio/lowlevel.py:55\u001b[0m, in \u001b[0;36mcancel_shielded_checkpoint\u001b[0;34m()\u001b[0m\n\u001b[1;32m     42\u001b[0m \u001b[38;5;28;01masync\u001b[39;00m \u001b[38;5;28;01mdef\u001b[39;00m \u001b[38;5;21mcancel_shielded_checkpoint\u001b[39m() \u001b[38;5;241m-\u001b[39m\u001b[38;5;241m>\u001b[39m \u001b[38;5;28;01mNone\u001b[39;00m:\n\u001b[1;32m     43\u001b[0m \u001b[38;5;250m    \u001b[39m\u001b[38;5;124;03m\"\"\"\u001b[39;00m\n\u001b[1;32m     44\u001b[0m \u001b[38;5;124;03m    Allow the scheduler to switch to another task but without checking for cancellation.\u001b[39;00m\n\u001b[1;32m     45\u001b[0m \n\u001b[0;32m   (...)\u001b[0m\n\u001b[1;32m     53\u001b[0m \n\u001b[1;32m     54\u001b[0m \u001b[38;5;124;03m    \"\"\"\u001b[39;00m\n\u001b[0;32m---> 55\u001b[0m     \u001b[38;5;28;01mawait\u001b[39;00m get_async_backend()\u001b[38;5;241m.\u001b[39mcancel_shielded_checkpoint()\n",
      "File \u001b[0;32m/opt/anaconda3/lib/python3.12/site-packages/anyio/_backends/_asyncio.py:2031\u001b[0m, in \u001b[0;36mAsyncIOBackend.cancel_shielded_checkpoint\u001b[0;34m(cls)\u001b[0m\n\u001b[1;32m   2028\u001b[0m \u001b[38;5;129m@classmethod\u001b[39m\n\u001b[1;32m   2029\u001b[0m \u001b[38;5;28;01masync\u001b[39;00m \u001b[38;5;28;01mdef\u001b[39;00m \u001b[38;5;21mcancel_shielded_checkpoint\u001b[39m(\u001b[38;5;28mcls\u001b[39m) \u001b[38;5;241m-\u001b[39m\u001b[38;5;241m>\u001b[39m \u001b[38;5;28;01mNone\u001b[39;00m:\n\u001b[1;32m   2030\u001b[0m     \u001b[38;5;28;01mwith\u001b[39;00m CancelScope(shield\u001b[38;5;241m=\u001b[39m\u001b[38;5;28;01mTrue\u001b[39;00m):\n\u001b[0;32m-> 2031\u001b[0m         \u001b[38;5;28;01mawait\u001b[39;00m sleep(\u001b[38;5;241m0\u001b[39m)\n",
      "File \u001b[0;32m/opt/anaconda3/lib/python3.12/asyncio/tasks.py:656\u001b[0m, in \u001b[0;36msleep\u001b[0;34m(delay, result)\u001b[0m\n\u001b[1;32m    654\u001b[0m \u001b[38;5;250m\u001b[39m\u001b[38;5;124;03m\"\"\"Coroutine that completes after a given time (in seconds).\"\"\"\u001b[39;00m\n\u001b[1;32m    655\u001b[0m \u001b[38;5;28;01mif\u001b[39;00m delay \u001b[38;5;241m<\u001b[39m\u001b[38;5;241m=\u001b[39m \u001b[38;5;241m0\u001b[39m:\n\u001b[0;32m--> 656\u001b[0m     \u001b[38;5;28;01mawait\u001b[39;00m __sleep0()\n\u001b[1;32m    657\u001b[0m     \u001b[38;5;28;01mreturn\u001b[39;00m result\n\u001b[1;32m    659\u001b[0m loop \u001b[38;5;241m=\u001b[39m events\u001b[38;5;241m.\u001b[39mget_running_loop()\n",
      "File \u001b[0;32m/opt/anaconda3/lib/python3.12/asyncio/tasks.py:650\u001b[0m, in \u001b[0;36m__sleep0\u001b[0;34m()\u001b[0m\n\u001b[1;32m    641\u001b[0m \u001b[38;5;129m@types\u001b[39m\u001b[38;5;241m.\u001b[39mcoroutine\n\u001b[1;32m    642\u001b[0m \u001b[38;5;28;01mdef\u001b[39;00m \u001b[38;5;21m__sleep0\u001b[39m():\n\u001b[1;32m    643\u001b[0m \u001b[38;5;250m    \u001b[39m\u001b[38;5;124;03m\"\"\"Skip one event loop run cycle.\u001b[39;00m\n\u001b[1;32m    644\u001b[0m \n\u001b[1;32m    645\u001b[0m \u001b[38;5;124;03m    This is a private helper for 'asyncio.sleep()', used\u001b[39;00m\n\u001b[0;32m   (...)\u001b[0m\n\u001b[1;32m    648\u001b[0m \u001b[38;5;124;03m    instead of creating a Future object.\u001b[39;00m\n\u001b[1;32m    649\u001b[0m \u001b[38;5;124;03m    \"\"\"\u001b[39;00m\n\u001b[0;32m--> 650\u001b[0m     \u001b[38;5;28;01myield\u001b[39;00m\n",
      "\u001b[0;31mCancelledError\u001b[0m: "
     ]
    }
   ],
   "source": [
    "# 1. 测试配置（无需API密钥）\n",
    "from config import get_config\n",
    "config = get_config()\n",
    "config.validate(require_api_keys=False)\n",
    "\n",
    "# 2. 测试日志系统\n",
    "from logger import setup_logging, get_logger\n",
    "setup_logging(\"DEBUG\")\n",
    "logger = get_logger()\n",
    "\n",
    "# 3. 测试LLM接口（需要API密钥）\n",
    "from llm_interface import create_llm_interface_with_keys\n",
    "llm = create_llm_interface_with_keys()\n",
    "await llm.generate(\"Hello!\")\n",
    "\n",
    "# 4. 测试Agent核心\n",
    "from agent_core import AgentCore\n",
    "agent = AgentCore()\n",
    "agent.set_llm_interface(llm)\n",
    "result = await agent.process(\"你好\")"
   ]
  },
  {
   "cell_type": "code",
   "execution_count": null,
   "id": "931335a1",
   "metadata": {},
   "outputs": [],
   "source": []
  }
 ],
 "metadata": {
  "kernelspec": {
   "display_name": "base",
   "language": "python",
   "name": "python3"
  },
  "language_info": {
   "codemirror_mode": {
    "name": "ipython",
    "version": 3
   },
   "file_extension": ".py",
   "mimetype": "text/x-python",
   "name": "python",
   "nbconvert_exporter": "python",
   "pygments_lexer": "ipython3",
   "version": "3.12.7"
  }
 },
 "nbformat": 4,
 "nbformat_minor": 5
}
